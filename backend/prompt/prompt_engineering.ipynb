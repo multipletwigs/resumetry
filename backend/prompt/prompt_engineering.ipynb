{
 "cells": [
  {
   "cell_type": "code",
   "execution_count": null,
   "metadata": {},
   "outputs": [],
   "source": [
    "from langchain.document_loaders import PyMuPDFLoader\n",
    "from datetime import datetime\n",
    "import openai\n",
    "import os\n",
    "\n",
    "\n",
    "os.environ[\"OPENAI_API_KEY\"] = \"\""
   ]
  },
  {
   "attachments": {},
   "cell_type": "markdown",
   "metadata": {},
   "source": [
    "PDF parser"
   ]
  },
  {
   "cell_type": "code",
   "execution_count": null,
   "metadata": {},
   "outputs": [],
   "source": [
    "def produce_question(resume):\n",
    "    loader = PyMuPDFLoader(resume)\n",
    "    data = loader.load()\n",
    "    text = ''\n",
    "    for page in data:\n",
    "        text += page.page_content\n",
    "    return text"
   ]
  },
  {
   "attachments": {},
   "cell_type": "markdown",
   "metadata": {},
   "source": [
    "Sample resume text"
   ]
  },
  {
   "cell_type": "code",
   "execution_count": null,
   "metadata": {},
   "outputs": [],
   "source": [
    "text = '''Mandy Campbell, Software Engineer\n",
    "PROFILE\n",
    "Passionate, fresh software engineer graduate from UCLA. Has competed in multiple team-based coding competitions.\n",
    "EMPLOYMENT HISTORY\n",
    "Jan 2021 — Aug 2021\n",
    "FRONTEND DEVELOPER INTERN, XYZ Enterprise\n",
    "Mostly did debugging on the new features developed by the supervisors. Participated in daily scrum meetings and assisted in making decisions on UI.\n",
    "• Learnt about technology currently used in the industry\n",
    "• Able to have hands experience with creating/modifying UI\n",
    "EDUCATION\n",
    "Jul 2021 — Present\n",
    "Bachelor's Degree in Software Engineering, UCLA\n",
    "• Student representative for the software engineering faculty.\n",
    "• Leader of the competitive coding society\n",
    "Jan 2020 — Jul 2021\n",
    "Advanced Computer Science Diploma, UCLA\n",
    "Jan 2018 — Dec 2018\n",
    "High School Diploma, Barlow High School\n",
    "Tennessee\n",
    "• Leader of tech club\n",
    "• Treasurer for student council\n",
    "SKILLS\n",
    "Python\n",
    "Javascript\n",
    "Mobile development\n",
    "Artificial Intelligence\n",
    "HOBBIES\n",
    "Skiing, Hockey, Knitting\n",
    "LANGUAGES\n",
    "English\n",
    "Native speaker\n",
    "ACCOMPLISHMENTS\n",
    "• Longest running student representative\n",
    "• 1st place winner of the national coding competition 2022\n",
    "• Teaching assistant for advanced algorithms class\n",
    "'''\n"
   ]
  },
  {
   "attachments": {},
   "cell_type": "markdown",
   "metadata": {},
   "source": [
    "Prompt used\n"
   ]
  },
  {
   "cell_type": "code",
   "execution_count": 2,
   "metadata": {},
   "outputs": [
    {
     "name": "stdout",
     "output_type": "stream",
     "text": [
      "You will ask me only 3 questions about my resume, one question at a time to me. You do not answer as a candidate.     I will first provide you a resume, then you ask the question. Once the interview is completed, respond with an underscore\n"
     ]
    }
   ],
   "source": [
    "'''\n",
    "- Ask 3 questions\n",
    "- Questions would be related to the resume + job/company description\n",
    "- Once the conversation has ended, let backend know by responding with '_'\n",
    "- Engage with candidate like a conversation as opposed to asking all the questions at once\n",
    "'''\n",
    "prompt = 'You will ask me only 3 questions about my resume, one question at a time to me. You do not answer as a candidate. \\\n",
    "    I will first provide you a resume, then you ask the question. Once the interview is completed, respond with an underscore'"
   ]
  },
  {
   "attachments": {},
   "cell_type": "markdown",
   "metadata": {},
   "source": [
    "First approach: Call the function everytime a new conversation is created"
   ]
  },
  {
   "cell_type": "code",
   "execution_count": null,
   "metadata": {},
   "outputs": [],
   "source": [
    "def start_conversation(company_name, company_desc, job_title, resume_text):\n",
    "    #Provide information on the company and what is the job vacancy\n",
    "    company_background = f'Company name:{company_name}, company description:{company_desc}, job title:{job_title}'\n",
    "    # Setting up the initial chat/prompt for gpt\n",
    "    chat_session = [{'role': 'system', 'content': f'Company background: {company_background}'},\n",
    "                    {'role': 'system', 'content': prompt},\n",
    "                    {'role': 'user', 'content': resume_text}]\n",
    "    #Logs will contain the conversation between the user and gpt, storing the timestamp of the message as well\n",
    "    logs = []\n",
    "    # Loop until end of conversation\n",
    "    while not '_' in chat_session[-1]['content']:\n",
    "        # Retrieving response based on user input\n",
    "        response = openai.ChatCompletion.create(\n",
    "            model='gpt-4', messages=chat_session)\n",
    "        message = response['choices'][0]['message']['content']\n",
    "        # Check for _ (From the prompt, gpt will respond with '_' if conversation is completed)\n",
    "        if '_' in message:\n",
    "            break\n",
    "        else:\n",
    "            print(message)\n",
    "        \n",
    "        #Add the response into the chat session and the logs\n",
    "        chat_session.append({'role': 'assistant', 'content': message})\n",
    "        logs.append({'role': 'assistant', 'content': message,\n",
    "                    'time': str(datetime.now())})\n",
    "        \n",
    "        #Get user input\n",
    "        user_input = ''\n",
    "        user_input = input()\n",
    "        print(user_input)\n",
    "        \n",
    "        #Add user input to chat session and logs\n",
    "        chat_session.append({'role': 'user', 'content': user_input})\n",
    "        logs.append({'role': 'user', 'content': user_input,\n",
    "                    'time': str(datetime.now())})\n",
    "        \n",
    "    #Return the logs to be saved in database\n",
    "    return logs"
   ]
  },
  {
   "attachments": {},
   "cell_type": "markdown",
   "metadata": {},
   "source": [
    "Second approach: Have backend call functions multiple times per conversation"
   ]
  },
  {
   "cell_type": "code",
   "execution_count": null,
   "metadata": {},
   "outputs": [],
   "source": [
    "#Will be called only once per conversation at the start\n",
    "def start_conversation(company_name, company_desc, job_title, resume_text):\n",
    "    #Provide information on the company and what is the job vacancy\n",
    "    company_background = f'Company name:{company_name}, company description:{company_desc}, job title:{job_title}'\n",
    "    # Setting up the initial chat/prompt for gpt\n",
    "    chat_session = [{'role': 'system', 'content': f'Company background: {company_background}'},\n",
    "                    {'role': 'system', 'content': prompt},\n",
    "                    {'role': 'user', 'content': resume_text}]\n",
    "    #Generate the first question to candidate\n",
    "    response = openai.ChatCompletion.create(\n",
    "        model='gpt-4', messages=chat_session)\n",
    "    response_msg = response['choices'][0]['message']['content']\n",
    "    #Return the message to backend to store and be displayed\n",
    "    return response_msg\n",
    "\n",
    "#Will be called multiple times in the conversation\n",
    "def conversation(chat_session, user_input):\n",
    "    #Add user input to the chat session and generate a response\n",
    "    message = {'role': 'user', 'content': user_input}\n",
    "    chat_session.append(message)\n",
    "    response = openai.ChatCompletion.create(\n",
    "        model='gpt-4', messages=chat_session)\n",
    "    response_msg = response['choices'][0]['message']['content']\n",
    "    #Modify the message to include a timestamp\n",
    "    message.update({'time': str(datetime.now)})\n",
    "    #Return the response and the data to be stored in database\n",
    "    data = {'response_msg': response_msg, 'log_msg': message}\n",
    "    return data\n"
   ]
  }
 ],
 "metadata": {
  "kernelspec": {
   "display_name": "Python 3",
   "language": "python",
   "name": "python3"
  },
  "language_info": {
   "codemirror_mode": {
    "name": "ipython",
    "version": 3
   },
   "file_extension": ".py",
   "mimetype": "text/x-python",
   "name": "python",
   "nbconvert_exporter": "python",
   "pygments_lexer": "ipython3",
   "version": "3.10.0"
  },
  "orig_nbformat": 4
 },
 "nbformat": 4,
 "nbformat_minor": 2
}
